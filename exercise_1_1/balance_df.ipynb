{
 "cells": [
  {
   "cell_type": "code",
   "execution_count": 3,
   "id": "a26149c0",
   "metadata": {},
   "outputs": [
    {
     "data": {
      "text/plain": [
       "114"
      ]
     },
     "execution_count": 3,
     "metadata": {},
     "output_type": "execute_result"
    }
   ],
   "source": [
    "import pandas as pd\n",
    "from sqlalchemy import create_engine\n",
    "import chardet\n",
    "\n",
    "db_user = 'postgres'\n",
    "db_password = '1503'\n",
    "db_host = 'localhost'\n",
    "db_port = '5432'\n",
    "db_name = 'project'\n",
    "\n",
    "connection_string = f'postgresql+psycopg2://{db_user}:{db_password}@{db_host}:{db_port}/{db_name}'\n",
    "engine = create_engine(connection_string)\n",
    "\n",
    "csv_file_path = '/Users/nikitos/Desktop/import/ft_balance_f.csv'\n",
    "\n",
    "balance_df = pd.read_csv(csv_file_path, sep=';')\n",
    "\n",
    "# Переименование названий столбцов в нижний регистр\n",
    "balance_df.columns = balance_df.columns.str.lower()\n",
    "\n",
    "# изменяем формат записи дат и преобразуем в формат даты\n",
    "balance_df['on_date'] = pd.to_datetime(balance_df['on_date'], format='%d.%m.%Y').dt.date\n",
    "\n",
    "# Импортируем данные в таблицу DS.FT_BALANCE_F\n",
    "balance_df.to_sql('ft_balance_f', engine, schema='ds', if_exists='append', index=False)"
   ]
  },
  {
   "cell_type": "code",
   "execution_count": null,
   "id": "10c656ec",
   "metadata": {},
   "outputs": [],
   "source": []
  },
  {
   "cell_type": "code",
   "execution_count": null,
   "id": "22512603",
   "metadata": {},
   "outputs": [],
   "source": []
  },
  {
   "cell_type": "code",
   "execution_count": null,
   "id": "ba3994a8",
   "metadata": {},
   "outputs": [],
   "source": []
  },
  {
   "cell_type": "code",
   "execution_count": null,
   "id": "8b7525c4",
   "metadata": {},
   "outputs": [],
   "source": []
  }
 ],
 "metadata": {
  "kernelspec": {
   "display_name": "Python 3 (ipykernel)",
   "language": "python",
   "name": "python3"
  },
  "language_info": {
   "codemirror_mode": {
    "name": "ipython",
    "version": 3
   },
   "file_extension": ".py",
   "mimetype": "text/x-python",
   "name": "python",
   "nbconvert_exporter": "python",
   "pygments_lexer": "ipython3",
   "version": "3.11.5"
  }
 },
 "nbformat": 4,
 "nbformat_minor": 5
}
