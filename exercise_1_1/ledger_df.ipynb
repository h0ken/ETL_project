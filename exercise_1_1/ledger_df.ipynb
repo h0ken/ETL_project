{
 "cells": [
  {
   "cell_type": "code",
   "execution_count": null,
   "id": "fb556563",
   "metadata": {},
   "outputs": [],
   "source": [
    "import pandas as pd\n",
    "from sqlalchemy import create_engine\n",
    "import chardet\n",
    "\n",
    "db_user = 'postgres'\n",
    "db_password = '1503'\n",
    "db_host = 'localhost'\n",
    "db_port = '5432'\n",
    "db_name = 'project'\n",
    "\n",
    "connection_string = f'postgresql+psycopg2://{db_user}:{db_password}@{db_host}:{db_port}/{db_name}'\n",
    "engine = create_engine(connection_string)\n",
    "\n",
    "csv_file_path = '/Users/nikitos/Desktop/import/md_ledger_account_s.csv'\n",
    "ledger_df = pd.read_csv(csv_file_path, sep=';')\n",
    "\n",
    "ledger_df.columns = ledger_df.columns.str.lower()\n",
    "\n",
    "ledger_df['start_date'] = pd.to_datetime(ledger_df['start_date']).dt.date\n",
    "\n",
    "ledger_df['end_date'] = pd.to_datetime(ledger_df['end_date']).dt.date\n",
    "\n",
    "ledger_df.to_sql('md_ledger_account_s', engine, schema='ds', if_exists='replace', index=False)"
   ]
  }
 ],
 "metadata": {
  "kernelspec": {
   "display_name": "Python 3 (ipykernel)",
   "language": "python",
   "name": "python3"
  },
  "language_info": {
   "codemirror_mode": {
    "name": "ipython",
    "version": 3
   },
   "file_extension": ".py",
   "mimetype": "text/x-python",
   "name": "python",
   "nbconvert_exporter": "python",
   "pygments_lexer": "ipython3",
   "version": "3.11.5"
  }
 },
 "nbformat": 4,
 "nbformat_minor": 5
}
