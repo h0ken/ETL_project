{
 "cells": [
  {
   "cell_type": "code",
   "execution_count": 8,
   "id": "0d0eb688",
   "metadata": {},
   "outputs": [
    {
     "name": "stdout",
     "output_type": "stream",
     "text": [
      "Данные логов успешно добавлены в базу данных\n",
      "\n",
      "Данные таблицы успешно выгружены в файл /Users/nikitos/Desktop/dm.dm_f101_round_f.csv\n"
     ]
    }
   ],
   "source": [
    "#Скрипт выгрузки из таблицы бд в csv файл с логированием\n",
    "import pandas as pd\n",
    "from sqlalchemy import create_engine\n",
    "import time\n",
    "\n",
    "# Параметры подключения к базе данных\n",
    "db_user = 'postgres'\n",
    "db_password = '1503'\n",
    "db_host = 'localhost'\n",
    "db_port = '5432'\n",
    "db_name = 'project'\n",
    "\n",
    "# Строка подключения к базе данных\n",
    "connection_string = f'postgresql+psycopg2://{db_user}:{db_password}@{db_host}:{db_port}/{db_name}'\n",
    "engine = create_engine(connection_string)\n",
    "\n",
    "# Определение переменной table_name\n",
    "table_name = 'dm_f101_round_f'\n",
    "\n",
    "# Функция отправки переменных с информацией в бд логов\n",
    "def log_to_database(engine, log_info):\n",
    "    table_or_function_name = log_info['table_or_function_name']\n",
    "    ready_to_start = log_info['ready_to_start']\n",
    "    start_time = log_info['start_time']\n",
    "    end_time = log_info['end_time']\n",
    "    count_record = log_info['count_record']\n",
    "\n",
    "    query = \"\"\"\n",
    "        INSERT INTO logs.log_info (table_or_function_name, ready_to_start, start_time, end_time, count_record)\n",
    "        VALUES (%s, %s, %s, %s, %s)\n",
    "    \"\"\"\n",
    "\n",
    "    try:\n",
    "        with engine.connect() as conn:\n",
    "            conn.execute(query, (table_or_function_name, ready_to_start, start_time, end_time, count_record))\n",
    "        print('Данные логов успешно добавлены в базу данных', end='\\n\\n')\n",
    "    except Exception as e:\n",
    "        print(f'Ошибка загрузки логов в базу данных: {str(e)}')\n",
    "\n",
    "# Запрос для подсчета строк в исходной таблице баз данных\n",
    "with engine.connect() as conn:\n",
    "    result = conn.execute(f'SELECT COUNT(*) FROM DM.DM_F101_ROUND_F')\n",
    "    row_count = result.scalar()\n",
    "\n",
    "# Запись о готовности начать работать\n",
    "ready_to_start = time.strftime('%Y-%m-%d %H:%M:%S')\n",
    "    \n",
    "# Тайм-аут 5 секунд\n",
    "time.sleep(5)\n",
    "    \n",
    "# Запись о начале работы с таблицей\n",
    "start_time = time.strftime('%Y-%m-%d %H:%M:%S')\n",
    "\n",
    "# Запрос к базе данных и сохранение результата в DataFrame\n",
    "df = pd.read_sql_query('SELECT * FROM DM.DM_F101_ROUND_F', engine)\n",
    "\n",
    "# Путь для сохранения файла CSV на рабочий стол\n",
    "file_path = '/Users/nikitos/Desktop/dm.dm_f101_round_f.csv'\n",
    "\n",
    "# Сохранение данных из DataFrame в файл CSV с разделителем \":\" и кодировкой UTF-8\n",
    "df.to_csv(file_path, index=False, sep=';', encoding='utf-8')\n",
    "\n",
    "# Фиксация времени окончания скрипта\n",
    "end_time = time.strftime('%Y-%m-%d %H:%M:%S')\n",
    "\n",
    "\n",
    "# Фиксация времени окончания скрипта\n",
    "end_time = time.strftime('%Y-%m-%d %H:%M:%S')\n",
    "\n",
    "# Запись в переменную лога при завершении работы с таблицей\n",
    "log_info = {\n",
    "            'ready_to_start': ready_to_start,\n",
    "            'table_or_function_name': table_name,\n",
    "            'start_time': start_time,\n",
    "            'end_time': end_time,\n",
    "            'count_record': row_count\n",
    "            }\n",
    "log_to_database(engine, log_info)\n",
    "\n",
    "print(f'Данные таблицы успешно выгружены в файл {file_path}')\n"
   ]
  },
  {
   "cell_type": "code",
   "execution_count": null,
   "id": "ff3d277c",
   "metadata": {},
   "outputs": [],
   "source": []
  },
  {
   "cell_type": "code",
   "execution_count": 7,
   "id": "6ff900bd",
   "metadata": {},
   "outputs": [
    {
     "data": {
      "text/plain": [
       "18"
      ]
     },
     "execution_count": 7,
     "metadata": {},
     "output_type": "execute_result"
    }
   ],
   "source": [
    "#Скрипт загрузки csv\n",
    "import pandas as pd\n",
    "from sqlalchemy import create_engine\n",
    "import chardet\n",
    "\n",
    "db_user = 'postgres'\n",
    "db_password = '1503'\n",
    "db_host = 'localhost'\n",
    "db_port = '5432'\n",
    "db_name = 'project'\n",
    "\n",
    "connection_string = f'postgresql+psycopg2://{db_user}:{db_password}@{db_host}:{db_port}/{db_name}'\n",
    "engine = create_engine(connection_string)\n",
    "\n",
    "csv_file_path = '/Users/nikitos/Desktop/dm.dm_f101_round_f_v2.csv'\n",
    "F101_ROUND_F_v2_df = pd.read_csv(csv_file_path, sep=';')\n",
    "\n",
    "F101_ROUND_F_v2_df.to_sql('dm_f101_round_f_v2', engine, schema='dm', if_exists='replace', index=False)"
   ]
  },
  {
   "cell_type": "code",
   "execution_count": null,
   "id": "77930ddf",
   "metadata": {},
   "outputs": [],
   "source": []
  }
 ],
 "metadata": {
  "kernelspec": {
   "display_name": "Python 3 (ipykernel)",
   "language": "python",
   "name": "python3"
  },
  "language_info": {
   "codemirror_mode": {
    "name": "ipython",
    "version": 3
   },
   "file_extension": ".py",
   "mimetype": "text/x-python",
   "name": "python",
   "nbconvert_exporter": "python",
   "pygments_lexer": "ipython3",
   "version": "3.11.5"
  }
 },
 "nbformat": 4,
 "nbformat_minor": 5
}
