{
 "cells": [
  {
   "cell_type": "code",
   "execution_count": null,
   "id": "da2747c7",
   "metadata": {},
   "outputs": [],
   "source": [
    "import pandas as pd\n",
    "from sqlalchemy import create_engine\n",
    "\n",
    "db_user = 'postgres'\n",
    "db_password = '1503'\n",
    "db_host = 'localhost'\n",
    "db_port = '5432'\n",
    "db_name = 'project'\n",
    "\n",
    "connection_string = f'postgresql+psycopg2://{db_user}:{db_password}@{db_host}:{db_port}/{db_name}'\n",
    "engine = create_engine(connection_string)\n",
    "\n",
    "csv_file_path = '/Users/nikitos/Desktop/import/ft_posting_f.csv'\n",
    "posting_df = pd.read_csv(csv_file_path, sep=';')\n",
    "\n",
    "posting_df.columns = posting_df.columns.str.lower()\n",
    "\n",
    "posting_df['oper_date'] = pd.to_datetime(posting_df['oper_date'], format='%d-%m-%Y').dt.date\n",
    "\n",
    "posting_df.to_sql('ft_posting_f', engine, schema='ds', if_exists='replace', index=False)"
   ]
  }
 ],
 "metadata": {
  "kernelspec": {
   "display_name": "Python 3 (ipykernel)",
   "language": "python",
   "name": "python3"
  },
  "language_info": {
   "codemirror_mode": {
    "name": "ipython",
    "version": 3
   },
   "file_extension": ".py",
   "mimetype": "text/x-python",
   "name": "python",
   "nbconvert_exporter": "python",
   "pygments_lexer": "ipython3",
   "version": "3.11.5"
  }
 },
 "nbformat": 4,
 "nbformat_minor": 5
}
