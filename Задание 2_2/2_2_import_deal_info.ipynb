{
 "cells": [
  {
   "cell_type": "code",
   "execution_count": null,
   "id": "3d6a2f4a",
   "metadata": {},
   "outputs": [],
   "source": []
  },
  {
   "cell_type": "code",
   "execution_count": null,
   "id": "cad332f1",
   "metadata": {},
   "outputs": [],
   "source": [
    "import pandas as pd\n",
    "from sqlalchemy import create_engine, Integer, Text, Numeric, Date, BigInteger\n",
    "import os\n",
    "from dotenv import load_dotenv\n",
    "\n",
    "dotenv_path = '/Users/nikitos/Desktop/notebook/config.env'\n",
    "\n",
    "load_dotenv(dotenv_path)\n",
    "\n",
    "DB_USER = os.getenv(\"DB_USER\")\n",
    "DB_PASSWORD = os.getenv(\"DB_PASSWORD\")\n",
    "DB_HOST = os.getenv(\"DB_HOST\")\n",
    "DB_PORT = os.getenv(\"DB_PORT\")\n",
    "DB_NAME = os.getenv(\"DB_NAME\")\n",
    "CSV_FILE_PATH = os.getenv(\"csv_file_path_deal_info\")\n",
    "\n",
    "connection_string = f'postgresql+psycopg2://{db_user}:{db_password}@{db_host}:{db_port}/{db_name}'\n",
    "engine = create_engine(connection_string)\n",
    "\n",
    "deal_df = pd.read_csv(csv_file_path, sep=',', encoding='cp1251')\n",
    "\n",
    "dtype = {\n",
    "    'deal_rk': BigInteger,\n",
    "    'deal_num': Text,\n",
    "    'deal_name': Text,\n",
    "    'deal_sum': Numeric,\n",
    "    'client_rk': BigInteger,\n",
    "    'account_rk': BigInteger,\n",
    "    'agreement_rk': BigInteger,\n",
    "    'deal_start_date': Date,\n",
    "    'department_rk': BigInteger,\n",
    "    'product_rk': BigInteger,\n",
    "    'deal_type_cd': Text,\n",
    "    'effective_from_date': Date,\n",
    "    'effective_to_date': Date\n",
    "}\n",
    "\n",
    "deal_df.to_sql('deal_info', engine, schema='rd', if_exists='append', index=False, dtype=dtype)"
   ]
  },
  {
   "cell_type": "code",
   "execution_count": null,
   "id": "97d0d76c",
   "metadata": {},
   "outputs": [],
   "source": []
  }
 ],
 "metadata": {
  "kernelspec": {
   "display_name": "Python 3 (ipykernel)",
   "language": "python",
   "name": "python3"
  },
  "language_info": {
   "codemirror_mode": {
    "name": "ipython",
    "version": 3
   },
   "file_extension": ".py",
   "mimetype": "text/x-python",
   "name": "python",
   "nbconvert_exporter": "python",
   "pygments_lexer": "ipython3",
   "version": "3.11.5"
  }
 },
 "nbformat": 4,
 "nbformat_minor": 5
}
