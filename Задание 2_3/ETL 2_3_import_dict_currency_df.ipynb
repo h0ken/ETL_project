{
 "cells": [
  {
   "cell_type": "code",
   "execution_count": 4,
   "id": "69216a42",
   "metadata": {},
   "outputs": [
    {
     "data": {
      "text/plain": [
       "5"
      ]
     },
     "execution_count": 4,
     "metadata": {},
     "output_type": "execute_result"
    }
   ],
   "source": [
    "import pandas as pd\n",
    "from sqlalchemy import create_engine, Text, Date\n",
    "import os\n",
    "from dotenv import load_dotenv\n",
    "\n",
    "dotenv_path = '/Users/nikitos/Desktop/notebook/config.env'\n",
    "\n",
    "load_dotenv(dotenv_path)\n",
    "\n",
    "DB_USER = os.getenv(\"DB_USER\")\n",
    "DB_PASSWORD = os.getenv(\"DB_PASSWORD\")\n",
    "DB_HOST = os.getenv(\"DB_HOST\")\n",
    "DB_PORT = os.getenv(\"DB_PORT\")\n",
    "DB_NAME = os.getenv(\"DB_NAME\")\n",
    "CSV_FILE_PATH = os.getenv(\"csv_file_path_dict_currency\")\n",
    "\n",
    "connection_string = f'postgresql+psycopg2://{DB_USER}:{DB_PASSWORD}@{DB_HOST}:{DB_PORT}/{DB_NAME}'\n",
    "engine = create_engine(connection_string)\n",
    "\n",
    "dict_currency_df = pd.read_csv(CSV_FILE_PATH, sep=',', encoding='cp1251')\n",
    "\n",
    "dtype = {\n",
    "    'currency_cd': Text,\n",
    "    'currency_name': Text, \n",
    "    'effective_from_date': Date, \n",
    "    'effective_to_date': Date\n",
    "}\n",
    "\n",
    "dict_currency_df.to_sql('dict_currency', engine, schema='dm', if_exists='replace', index=False, dtype=dtype)\n"
   ]
  },
  {
   "cell_type": "code",
   "execution_count": null,
   "id": "caeba695",
   "metadata": {},
   "outputs": [],
   "source": []
  }
 ],
 "metadata": {
  "kernelspec": {
   "display_name": "Python 3 (ipykernel)",
   "language": "python",
   "name": "python3"
  },
  "language_info": {
   "codemirror_mode": {
    "name": "ipython",
    "version": 3
   },
   "file_extension": ".py",
   "mimetype": "text/x-python",
   "name": "python",
   "nbconvert_exporter": "python",
   "pygments_lexer": "ipython3",
   "version": "3.11.5"
  }
 },
 "nbformat": 4,
 "nbformat_minor": 5
}
